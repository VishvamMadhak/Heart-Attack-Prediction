{
 "cells": [
  {
   "cell_type": "code",
   "execution_count": 34,
   "id": "94de661d",
   "metadata": {},
   "outputs": [],
   "source": [
    "import numpy as np\n",
    "import pandas as pd\n",
    "import matplotlib.pyplot as plt\n",
    "import seaborn as sns"
   ]
  },
  {
   "cell_type": "code",
   "execution_count": 35,
   "id": "c89ef657",
   "metadata": {},
   "outputs": [],
   "source": [
    "heart=pd.read_csv('./datasets/heart.csv')"
   ]
  },
  {
   "cell_type": "code",
   "execution_count": null,
   "id": "a4626407",
   "metadata": {},
   "outputs": [],
   "source": [
    "heart"
   ]
  },
  {
   "cell_type": "code",
   "execution_count": null,
   "id": "31c39baa",
   "metadata": {},
   "outputs": [],
   "source": [
    "heart.describe()"
   ]
  },
  {
   "cell_type": "code",
   "execution_count": null,
   "id": "84556043",
   "metadata": {},
   "outputs": [],
   "source": [
    "heart.nunique()"
   ]
  },
  {
   "cell_type": "code",
   "execution_count": null,
   "id": "496943b7",
   "metadata": {},
   "outputs": [],
   "source": [
    "heart.isnull().any()"
   ]
  },
  {
   "cell_type": "code",
   "execution_count": null,
   "id": "44a31338",
   "metadata": {},
   "outputs": [],
   "source": [
    "heart.info()"
   ]
  },
  {
   "cell_type": "code",
   "execution_count": null,
   "id": "0cfbd4aa",
   "metadata": {},
   "outputs": [],
   "source": [
    "#negligible correlation between numerical variables\n",
    "plt.figure(figsize= (16, 8))\n",
    "sns.heatmap(heart.corr(), annot = True, fmt= '.2f');"
   ]
  },
  {
   "cell_type": "code",
   "execution_count": null,
   "id": "661a6d08",
   "metadata": {},
   "outputs": [],
   "source": [
    "heart['output'].value_counts()"
   ]
  },
  {
   "cell_type": "code",
   "execution_count": 44,
   "id": "0063f286",
   "metadata": {},
   "outputs": [],
   "source": [
    "categorical_cols=['sex','cp','fbs','restecg','exng','slp','caa','thall','output']"
   ]
  },
  {
   "attachments": {},
   "cell_type": "markdown",
   "id": "1946b267",
   "metadata": {},
   "source": [
    "normalizing the numerical features"
   ]
  },
  {
   "cell_type": "code",
   "execution_count": null,
   "id": "3e5772bf",
   "metadata": {},
   "outputs": [],
   "source": [
    "numerical_cols=np.setdiff1d(heart.columns,categorical_cols)\n",
    "numerical_cols"
   ]
  },
  {
   "cell_type": "code",
   "execution_count": 46,
   "id": "454905bf",
   "metadata": {},
   "outputs": [],
   "source": [
    "heart[numerical_cols]=(heart[numerical_cols]-heart[numerical_cols].mean())/heart[numerical_cols].std()"
   ]
  },
  {
   "cell_type": "code",
   "execution_count": 47,
   "id": "318fb5d7",
   "metadata": {},
   "outputs": [],
   "source": [
    "from sklearn.model_selection import train_test_split"
   ]
  },
  {
   "cell_type": "code",
   "execution_count": 48,
   "id": "f861abe5",
   "metadata": {},
   "outputs": [],
   "source": [
    "x=heart.drop('output',axis=1)\n",
    "y=heart['output']"
   ]
  },
  {
   "cell_type": "code",
   "execution_count": 49,
   "id": "5299bb10",
   "metadata": {},
   "outputs": [],
   "source": [
    "xtrain,xtest,ytrain,ytest=train_test_split(x,y)"
   ]
  },
  {
   "cell_type": "code",
   "execution_count": null,
   "id": "73a53aa2",
   "metadata": {},
   "outputs": [],
   "source": [
    "xtrain.shape"
   ]
  },
  {
   "cell_type": "code",
   "execution_count": null,
   "id": "688a0b7e",
   "metadata": {},
   "outputs": [],
   "source": [
    "xtest.shape"
   ]
  },
  {
   "cell_type": "code",
   "execution_count": 52,
   "id": "1099582d",
   "metadata": {},
   "outputs": [],
   "source": [
    "from sklearn.svm import SVC"
   ]
  },
  {
   "cell_type": "code",
   "execution_count": 53,
   "id": "68e984f8",
   "metadata": {},
   "outputs": [],
   "source": [
    "from feature_engine.selection import DropConstantFeatures,DropDuplicateFeatures,SmartCorrelatedSelection\n",
    "from sklearn.pipeline import Pipeline\n",
    "pipe=Pipeline([('constant',DropConstantFeatures(tol=0.95)),('duplicate',DropDuplicateFeatures()),('smartcorrelation',SmartCorrelatedSelection(threshold=0.95,estimator=SVC))])"
   ]
  },
  {
   "cell_type": "code",
   "execution_count": 54,
   "id": "b198600b",
   "metadata": {},
   "outputs": [],
   "source": [
    "xtrainnew=pipe.fit_transform(xtrain)"
   ]
  },
  {
   "cell_type": "code",
   "execution_count": null,
   "id": "642ab7dc",
   "metadata": {},
   "outputs": [],
   "source": [
    "xtrainnew.shape #no feature was dropped"
   ]
  },
  {
   "attachments": {},
   "cell_type": "markdown",
   "id": "77aae035",
   "metadata": {},
   "source": [
    "Performing grid search"
   ]
  },
  {
   "cell_type": "code",
   "execution_count": 57,
   "id": "b04ce0e9",
   "metadata": {},
   "outputs": [],
   "source": [
    "svm=SVC(random_state=0)"
   ]
  },
  {
   "cell_type": "code",
   "execution_count": 58,
   "id": "f3b40c22",
   "metadata": {},
   "outputs": [],
   "source": [
    "from sklearn.model_selection import GridSearchCV"
   ]
  },
  {
   "cell_type": "code",
   "execution_count": 59,
   "id": "3b26b2b8",
   "metadata": {},
   "outputs": [],
   "source": [
    "#using rbf kernel\n",
    "parameters=[{'gamma':[0.01,0.1,0.5,0.8,1,10],'C':[int(i) for i in np.linspace(start=1,stop=100,num=11)]}]\n",
    "grid=GridSearchCV(svm,param_grid=parameters,cv=4,verbose=1)"
   ]
  },
  {
   "cell_type": "code",
   "execution_count": 60,
   "id": "1d66989f",
   "metadata": {},
   "outputs": [
    {
     "name": "stdout",
     "output_type": "stream",
     "text": [
      "Fitting 4 folds for each of 66 candidates, totalling 264 fits\n"
     ]
    },
    {
     "data": {
      "text/html": [
       "<style>#sk-container-id-4 {color: black;background-color: white;}#sk-container-id-4 pre{padding: 0;}#sk-container-id-4 div.sk-toggleable {background-color: white;}#sk-container-id-4 label.sk-toggleable__label {cursor: pointer;display: block;width: 100%;margin-bottom: 0;padding: 0.3em;box-sizing: border-box;text-align: center;}#sk-container-id-4 label.sk-toggleable__label-arrow:before {content: \"▸\";float: left;margin-right: 0.25em;color: #696969;}#sk-container-id-4 label.sk-toggleable__label-arrow:hover:before {color: black;}#sk-container-id-4 div.sk-estimator:hover label.sk-toggleable__label-arrow:before {color: black;}#sk-container-id-4 div.sk-toggleable__content {max-height: 0;max-width: 0;overflow: hidden;text-align: left;background-color: #f0f8ff;}#sk-container-id-4 div.sk-toggleable__content pre {margin: 0.2em;color: black;border-radius: 0.25em;background-color: #f0f8ff;}#sk-container-id-4 input.sk-toggleable__control:checked~div.sk-toggleable__content {max-height: 200px;max-width: 100%;overflow: auto;}#sk-container-id-4 input.sk-toggleable__control:checked~label.sk-toggleable__label-arrow:before {content: \"▾\";}#sk-container-id-4 div.sk-estimator input.sk-toggleable__control:checked~label.sk-toggleable__label {background-color: #d4ebff;}#sk-container-id-4 div.sk-label input.sk-toggleable__control:checked~label.sk-toggleable__label {background-color: #d4ebff;}#sk-container-id-4 input.sk-hidden--visually {border: 0;clip: rect(1px 1px 1px 1px);clip: rect(1px, 1px, 1px, 1px);height: 1px;margin: -1px;overflow: hidden;padding: 0;position: absolute;width: 1px;}#sk-container-id-4 div.sk-estimator {font-family: monospace;background-color: #f0f8ff;border: 1px dotted black;border-radius: 0.25em;box-sizing: border-box;margin-bottom: 0.5em;}#sk-container-id-4 div.sk-estimator:hover {background-color: #d4ebff;}#sk-container-id-4 div.sk-parallel-item::after {content: \"\";width: 100%;border-bottom: 1px solid gray;flex-grow: 1;}#sk-container-id-4 div.sk-label:hover label.sk-toggleable__label {background-color: #d4ebff;}#sk-container-id-4 div.sk-serial::before {content: \"\";position: absolute;border-left: 1px solid gray;box-sizing: border-box;top: 0;bottom: 0;left: 50%;z-index: 0;}#sk-container-id-4 div.sk-serial {display: flex;flex-direction: column;align-items: center;background-color: white;padding-right: 0.2em;padding-left: 0.2em;position: relative;}#sk-container-id-4 div.sk-item {position: relative;z-index: 1;}#sk-container-id-4 div.sk-parallel {display: flex;align-items: stretch;justify-content: center;background-color: white;position: relative;}#sk-container-id-4 div.sk-item::before, #sk-container-id-4 div.sk-parallel-item::before {content: \"\";position: absolute;border-left: 1px solid gray;box-sizing: border-box;top: 0;bottom: 0;left: 50%;z-index: -1;}#sk-container-id-4 div.sk-parallel-item {display: flex;flex-direction: column;z-index: 1;position: relative;background-color: white;}#sk-container-id-4 div.sk-parallel-item:first-child::after {align-self: flex-end;width: 50%;}#sk-container-id-4 div.sk-parallel-item:last-child::after {align-self: flex-start;width: 50%;}#sk-container-id-4 div.sk-parallel-item:only-child::after {width: 0;}#sk-container-id-4 div.sk-dashed-wrapped {border: 1px dashed gray;margin: 0 0.4em 0.5em 0.4em;box-sizing: border-box;padding-bottom: 0.4em;background-color: white;}#sk-container-id-4 div.sk-label label {font-family: monospace;font-weight: bold;display: inline-block;line-height: 1.2em;}#sk-container-id-4 div.sk-label-container {text-align: center;}#sk-container-id-4 div.sk-container {/* jupyter's `normalize.less` sets `[hidden] { display: none; }` but bootstrap.min.css set `[hidden] { display: none !important; }` so we also need the `!important` here to be able to override the default hidden behavior on the sphinx rendered scikit-learn.org. See: https://github.com/scikit-learn/scikit-learn/issues/21755 */display: inline-block !important;position: relative;}#sk-container-id-4 div.sk-text-repr-fallback {display: none;}</style><div id=\"sk-container-id-4\" class=\"sk-top-container\"><div class=\"sk-text-repr-fallback\"><pre>GridSearchCV(cv=4, estimator=SVC(random_state=0),\n",
       "             param_grid=[{&#x27;C&#x27;: [1, 10, 20, 30, 40, 50, 60, 70, 80, 90, 100],\n",
       "                          &#x27;gamma&#x27;: [0.01, 0.1, 0.5, 0.8, 1, 10]}],\n",
       "             verbose=1)</pre><b>In a Jupyter environment, please rerun this cell to show the HTML representation or trust the notebook. <br />On GitHub, the HTML representation is unable to render, please try loading this page with nbviewer.org.</b></div><div class=\"sk-container\" hidden><div class=\"sk-item sk-dashed-wrapped\"><div class=\"sk-label-container\"><div class=\"sk-label sk-toggleable\"><input class=\"sk-toggleable__control sk-hidden--visually\" id=\"sk-estimator-id-6\" type=\"checkbox\" ><label for=\"sk-estimator-id-6\" class=\"sk-toggleable__label sk-toggleable__label-arrow\">GridSearchCV</label><div class=\"sk-toggleable__content\"><pre>GridSearchCV(cv=4, estimator=SVC(random_state=0),\n",
       "             param_grid=[{&#x27;C&#x27;: [1, 10, 20, 30, 40, 50, 60, 70, 80, 90, 100],\n",
       "                          &#x27;gamma&#x27;: [0.01, 0.1, 0.5, 0.8, 1, 10]}],\n",
       "             verbose=1)</pre></div></div></div><div class=\"sk-parallel\"><div class=\"sk-parallel-item\"><div class=\"sk-item\"><div class=\"sk-label-container\"><div class=\"sk-label sk-toggleable\"><input class=\"sk-toggleable__control sk-hidden--visually\" id=\"sk-estimator-id-7\" type=\"checkbox\" ><label for=\"sk-estimator-id-7\" class=\"sk-toggleable__label sk-toggleable__label-arrow\">estimator: SVC</label><div class=\"sk-toggleable__content\"><pre>SVC(random_state=0)</pre></div></div></div><div class=\"sk-serial\"><div class=\"sk-item\"><div class=\"sk-estimator sk-toggleable\"><input class=\"sk-toggleable__control sk-hidden--visually\" id=\"sk-estimator-id-8\" type=\"checkbox\" ><label for=\"sk-estimator-id-8\" class=\"sk-toggleable__label sk-toggleable__label-arrow\">SVC</label><div class=\"sk-toggleable__content\"><pre>SVC(random_state=0)</pre></div></div></div></div></div></div></div></div></div></div>"
      ],
      "text/plain": [
       "GridSearchCV(cv=4, estimator=SVC(random_state=0),\n",
       "             param_grid=[{'C': [1, 10, 20, 30, 40, 50, 60, 70, 80, 90, 100],\n",
       "                          'gamma': [0.01, 0.1, 0.5, 0.8, 1, 10]}],\n",
       "             verbose=1)"
      ]
     },
     "execution_count": 60,
     "metadata": {},
     "output_type": "execute_result"
    }
   ],
   "source": [
    "grid.fit(xtrain,ytrain)"
   ]
  },
  {
   "cell_type": "code",
   "execution_count": 61,
   "id": "8014ae22",
   "metadata": {},
   "outputs": [
    {
     "data": {
      "text/html": [
       "<style>#sk-container-id-5 {color: black;background-color: white;}#sk-container-id-5 pre{padding: 0;}#sk-container-id-5 div.sk-toggleable {background-color: white;}#sk-container-id-5 label.sk-toggleable__label {cursor: pointer;display: block;width: 100%;margin-bottom: 0;padding: 0.3em;box-sizing: border-box;text-align: center;}#sk-container-id-5 label.sk-toggleable__label-arrow:before {content: \"▸\";float: left;margin-right: 0.25em;color: #696969;}#sk-container-id-5 label.sk-toggleable__label-arrow:hover:before {color: black;}#sk-container-id-5 div.sk-estimator:hover label.sk-toggleable__label-arrow:before {color: black;}#sk-container-id-5 div.sk-toggleable__content {max-height: 0;max-width: 0;overflow: hidden;text-align: left;background-color: #f0f8ff;}#sk-container-id-5 div.sk-toggleable__content pre {margin: 0.2em;color: black;border-radius: 0.25em;background-color: #f0f8ff;}#sk-container-id-5 input.sk-toggleable__control:checked~div.sk-toggleable__content {max-height: 200px;max-width: 100%;overflow: auto;}#sk-container-id-5 input.sk-toggleable__control:checked~label.sk-toggleable__label-arrow:before {content: \"▾\";}#sk-container-id-5 div.sk-estimator input.sk-toggleable__control:checked~label.sk-toggleable__label {background-color: #d4ebff;}#sk-container-id-5 div.sk-label input.sk-toggleable__control:checked~label.sk-toggleable__label {background-color: #d4ebff;}#sk-container-id-5 input.sk-hidden--visually {border: 0;clip: rect(1px 1px 1px 1px);clip: rect(1px, 1px, 1px, 1px);height: 1px;margin: -1px;overflow: hidden;padding: 0;position: absolute;width: 1px;}#sk-container-id-5 div.sk-estimator {font-family: monospace;background-color: #f0f8ff;border: 1px dotted black;border-radius: 0.25em;box-sizing: border-box;margin-bottom: 0.5em;}#sk-container-id-5 div.sk-estimator:hover {background-color: #d4ebff;}#sk-container-id-5 div.sk-parallel-item::after {content: \"\";width: 100%;border-bottom: 1px solid gray;flex-grow: 1;}#sk-container-id-5 div.sk-label:hover label.sk-toggleable__label {background-color: #d4ebff;}#sk-container-id-5 div.sk-serial::before {content: \"\";position: absolute;border-left: 1px solid gray;box-sizing: border-box;top: 0;bottom: 0;left: 50%;z-index: 0;}#sk-container-id-5 div.sk-serial {display: flex;flex-direction: column;align-items: center;background-color: white;padding-right: 0.2em;padding-left: 0.2em;position: relative;}#sk-container-id-5 div.sk-item {position: relative;z-index: 1;}#sk-container-id-5 div.sk-parallel {display: flex;align-items: stretch;justify-content: center;background-color: white;position: relative;}#sk-container-id-5 div.sk-item::before, #sk-container-id-5 div.sk-parallel-item::before {content: \"\";position: absolute;border-left: 1px solid gray;box-sizing: border-box;top: 0;bottom: 0;left: 50%;z-index: -1;}#sk-container-id-5 div.sk-parallel-item {display: flex;flex-direction: column;z-index: 1;position: relative;background-color: white;}#sk-container-id-5 div.sk-parallel-item:first-child::after {align-self: flex-end;width: 50%;}#sk-container-id-5 div.sk-parallel-item:last-child::after {align-self: flex-start;width: 50%;}#sk-container-id-5 div.sk-parallel-item:only-child::after {width: 0;}#sk-container-id-5 div.sk-dashed-wrapped {border: 1px dashed gray;margin: 0 0.4em 0.5em 0.4em;box-sizing: border-box;padding-bottom: 0.4em;background-color: white;}#sk-container-id-5 div.sk-label label {font-family: monospace;font-weight: bold;display: inline-block;line-height: 1.2em;}#sk-container-id-5 div.sk-label-container {text-align: center;}#sk-container-id-5 div.sk-container {/* jupyter's `normalize.less` sets `[hidden] { display: none; }` but bootstrap.min.css set `[hidden] { display: none !important; }` so we also need the `!important` here to be able to override the default hidden behavior on the sphinx rendered scikit-learn.org. See: https://github.com/scikit-learn/scikit-learn/issues/21755 */display: inline-block !important;position: relative;}#sk-container-id-5 div.sk-text-repr-fallback {display: none;}</style><div id=\"sk-container-id-5\" class=\"sk-top-container\"><div class=\"sk-text-repr-fallback\"><pre>SVC(C=20, gamma=0.01, random_state=0)</pre><b>In a Jupyter environment, please rerun this cell to show the HTML representation or trust the notebook. <br />On GitHub, the HTML representation is unable to render, please try loading this page with nbviewer.org.</b></div><div class=\"sk-container\" hidden><div class=\"sk-item\"><div class=\"sk-estimator sk-toggleable\"><input class=\"sk-toggleable__control sk-hidden--visually\" id=\"sk-estimator-id-9\" type=\"checkbox\" checked><label for=\"sk-estimator-id-9\" class=\"sk-toggleable__label sk-toggleable__label-arrow\">SVC</label><div class=\"sk-toggleable__content\"><pre>SVC(C=20, gamma=0.01, random_state=0)</pre></div></div></div></div></div>"
      ],
      "text/plain": [
       "SVC(C=20, gamma=0.01, random_state=0)"
      ]
     },
     "execution_count": 61,
     "metadata": {},
     "output_type": "execute_result"
    }
   ],
   "source": [
    "grid.best_estimator_"
   ]
  },
  {
   "cell_type": "code",
   "execution_count": 62,
   "id": "593d23a6",
   "metadata": {},
   "outputs": [
    {
     "data": {
      "text/plain": [
       "{'mean_fit_time': array([0.00774324, 0.00799614, 0.00749803, 0.0064981 , 0.00900048,\n",
       "        0.00749052, 0.00425053, 0.00500137, 0.00649375, 0.00699979,\n",
       "        0.00650012, 0.01024175, 0.00474977, 0.00649762, 0.0067538 ,\n",
       "        0.00575107, 0.00625139, 0.0079971 , 0.00549716, 0.00574762,\n",
       "        0.00773948, 0.00574696, 0.00624436, 0.00774568, 0.00499666,\n",
       "        0.00549597, 0.00724894, 0.00524706, 0.00599778, 0.00674802,\n",
       "        0.00500101, 0.00549912, 0.00549668, 0.00599325, 0.00500131,\n",
       "        0.00699353, 0.00474793, 0.00474989, 0.00549763, 0.00549614,\n",
       "        0.00524735, 0.00774711, 0.00449872, 0.00549918, 0.00575018,\n",
       "        0.00524986, 0.00599611, 0.00699639, 0.00499541, 0.00524789,\n",
       "        0.00549918, 0.00649738, 0.00524974, 0.00649536, 0.00524706,\n",
       "        0.00550038, 0.00574994, 0.0062483 , 0.00499845, 0.00699812,\n",
       "        0.00474656, 0.00499797, 0.00524664, 0.00499731, 0.00524777,\n",
       "        0.00650179]),\n",
       " 'std_fit_time': array([1.78936966e-03, 1.22665628e-03, 1.65790855e-03, 1.50096788e-03,\n",
       "        4.18415170e-03, 2.05261443e-03, 4.35255302e-04, 1.69742475e-06,\n",
       "        1.11328986e-03, 1.74525516e-03, 1.50557632e-03, 1.78636477e-03,\n",
       "        4.34321603e-04, 1.11903619e-03, 1.48302214e-03, 4.32902339e-04,\n",
       "        8.33018367e-04, 9.99040368e-04, 1.12053912e-03, 4.37092703e-04,\n",
       "        1.78852171e-03, 8.28750191e-04, 8.25776067e-04, 8.30845842e-04,\n",
       "        9.98974906e-04, 4.98863755e-04, 8.26247685e-04, 4.35712395e-04,\n",
       "        7.07227745e-04, 4.33929424e-04, 7.09758042e-04, 4.99368582e-04,\n",
       "        4.95397188e-04, 7.02947140e-04, 3.16746956e-06, 9.93270185e-04,\n",
       "        8.27641215e-04, 4.32993264e-04, 5.00743509e-04, 8.65068976e-04,\n",
       "        4.34431495e-04, 1.08955641e-03, 4.98180142e-04, 1.11877996e-03,\n",
       "        8.30447180e-04, 4.35461027e-04, 7.03937436e-04, 7.05458196e-04,\n",
       "        7.05165589e-04, 8.27605775e-04, 5.00765020e-04, 1.65460384e-03,\n",
       "        4.32912503e-04, 4.98417147e-04, 4.37636229e-04, 1.11840654e-03,\n",
       "        8.29132052e-04, 8.25237780e-04, 1.59936045e-06, 7.05875849e-04,\n",
       "        8.24786624e-04, 7.06384259e-04, 4.29756516e-04, 5.59998247e-06,\n",
       "        4.34876448e-04, 8.68510101e-04]),\n",
       " 'mean_score_time': array([0.00525057, 0.00400478, 0.00450385, 0.00400084, 0.00624943,\n",
       "        0.00549996, 0.00275004, 0.00400227, 0.00500768, 0.00499803,\n",
       "        0.00450027, 0.00425255, 0.00400251, 0.00349814, 0.00474739,\n",
       "        0.00399965, 0.00424755, 0.00400054, 0.00300187, 0.00375491,\n",
       "        0.00525081, 0.00450176, 0.00450087, 0.00475442, 0.00275236,\n",
       "        0.0030033 , 0.00424999, 0.00374985, 0.00400352, 0.00375074,\n",
       "        0.00325096, 0.00275069, 0.00325239, 0.00375342, 0.00349921,\n",
       "        0.00400567, 0.00275087, 0.00300276, 0.00400031, 0.00350064,\n",
       "        0.00375491, 0.00400054, 0.00300169, 0.0035001 , 0.0037483 ,\n",
       "        0.00300068, 0.00450164, 0.00350237, 0.00275081, 0.00300157,\n",
       "        0.00374967, 0.00350416, 0.00399977, 0.00375086, 0.00275111,\n",
       "        0.00275064, 0.00349957, 0.00375056, 0.00375092, 0.00374901,\n",
       "        0.00350392, 0.00300157, 0.00325036, 0.00424844, 0.00350249,\n",
       "        0.00349766]),\n",
       " 'std_score_time': array([1.47996192e-03, 1.73299473e-03, 4.98436649e-04, 7.10433967e-04,\n",
       "        1.47756513e-03, 3.77688614e-03, 4.32764481e-04, 9.99881749e-04,\n",
       "        1.58720785e-03, 1.59199528e-03, 1.12133460e-03, 8.35576756e-04,\n",
       "        1.22173811e-03, 5.03658342e-04, 1.29893491e-03, 7.09418466e-04,\n",
       "        8.34510197e-04, 7.05550843e-04, 1.62032571e-06, 8.33120018e-04,\n",
       "        8.25578416e-04, 8.65864386e-04, 8.72162422e-04, 8.28450505e-04,\n",
       "        4.33793297e-04, 2.18107396e-06, 4.35025793e-04, 4.32950448e-04,\n",
       "        7.08744733e-04, 4.33453612e-04, 1.08915381e-03, 4.33360852e-04,\n",
       "        4.31207717e-04, 4.35013008e-04, 4.99195739e-04, 7.13217832e-04,\n",
       "        8.26546238e-04, 1.08604831e-06, 1.00123953e-03, 5.01454479e-04,\n",
       "        8.32402855e-04, 1.22533948e-03, 9.99569985e-04, 4.99021491e-04,\n",
       "        4.31766848e-04, 1.00270533e-06, 1.50098429e-03, 8.69681386e-04,\n",
       "        8.27388928e-04, 9.15663928e-07, 4.32695644e-04, 5.04536317e-04,\n",
       "        2.81280880e-06, 4.32948688e-04, 4.31958804e-04, 4.33326243e-04,\n",
       "        4.99666199e-04, 4.36918423e-04, 8.29456858e-04, 4.32432236e-04,\n",
       "        4.99396171e-04, 7.06805268e-04, 4.27958527e-04, 8.28625519e-04,\n",
       "        5.01395987e-04, 4.97405339e-04]),\n",
       " 'param_C': masked_array(data=[1, 1, 1, 1, 1, 1, 10, 10, 10, 10, 10, 10, 20, 20, 20,\n",
       "                    20, 20, 20, 30, 30, 30, 30, 30, 30, 40, 40, 40, 40, 40,\n",
       "                    40, 50, 50, 50, 50, 50, 50, 60, 60, 60, 60, 60, 60, 70,\n",
       "                    70, 70, 70, 70, 70, 80, 80, 80, 80, 80, 80, 90, 90, 90,\n",
       "                    90, 90, 90, 100, 100, 100, 100, 100, 100],\n",
       "              mask=[False, False, False, False, False, False, False, False,\n",
       "                    False, False, False, False, False, False, False, False,\n",
       "                    False, False, False, False, False, False, False, False,\n",
       "                    False, False, False, False, False, False, False, False,\n",
       "                    False, False, False, False, False, False, False, False,\n",
       "                    False, False, False, False, False, False, False, False,\n",
       "                    False, False, False, False, False, False, False, False,\n",
       "                    False, False, False, False, False, False, False, False,\n",
       "                    False, False],\n",
       "        fill_value='?',\n",
       "             dtype=object),\n",
       " 'param_gamma': masked_array(data=[0.01, 0.1, 0.5, 0.8, 1, 10, 0.01, 0.1, 0.5, 0.8, 1, 10,\n",
       "                    0.01, 0.1, 0.5, 0.8, 1, 10, 0.01, 0.1, 0.5, 0.8, 1, 10,\n",
       "                    0.01, 0.1, 0.5, 0.8, 1, 10, 0.01, 0.1, 0.5, 0.8, 1, 10,\n",
       "                    0.01, 0.1, 0.5, 0.8, 1, 10, 0.01, 0.1, 0.5, 0.8, 1, 10,\n",
       "                    0.01, 0.1, 0.5, 0.8, 1, 10, 0.01, 0.1, 0.5, 0.8, 1, 10,\n",
       "                    0.01, 0.1, 0.5, 0.8, 1, 10],\n",
       "              mask=[False, False, False, False, False, False, False, False,\n",
       "                    False, False, False, False, False, False, False, False,\n",
       "                    False, False, False, False, False, False, False, False,\n",
       "                    False, False, False, False, False, False, False, False,\n",
       "                    False, False, False, False, False, False, False, False,\n",
       "                    False, False, False, False, False, False, False, False,\n",
       "                    False, False, False, False, False, False, False, False,\n",
       "                    False, False, False, False, False, False, False, False,\n",
       "                    False, False],\n",
       "        fill_value='?',\n",
       "             dtype=object),\n",
       " 'params': [{'C': 1, 'gamma': 0.01},\n",
       "  {'C': 1, 'gamma': 0.1},\n",
       "  {'C': 1, 'gamma': 0.5},\n",
       "  {'C': 1, 'gamma': 0.8},\n",
       "  {'C': 1, 'gamma': 1},\n",
       "  {'C': 1, 'gamma': 10},\n",
       "  {'C': 10, 'gamma': 0.01},\n",
       "  {'C': 10, 'gamma': 0.1},\n",
       "  {'C': 10, 'gamma': 0.5},\n",
       "  {'C': 10, 'gamma': 0.8},\n",
       "  {'C': 10, 'gamma': 1},\n",
       "  {'C': 10, 'gamma': 10},\n",
       "  {'C': 20, 'gamma': 0.01},\n",
       "  {'C': 20, 'gamma': 0.1},\n",
       "  {'C': 20, 'gamma': 0.5},\n",
       "  {'C': 20, 'gamma': 0.8},\n",
       "  {'C': 20, 'gamma': 1},\n",
       "  {'C': 20, 'gamma': 10},\n",
       "  {'C': 30, 'gamma': 0.01},\n",
       "  {'C': 30, 'gamma': 0.1},\n",
       "  {'C': 30, 'gamma': 0.5},\n",
       "  {'C': 30, 'gamma': 0.8},\n",
       "  {'C': 30, 'gamma': 1},\n",
       "  {'C': 30, 'gamma': 10},\n",
       "  {'C': 40, 'gamma': 0.01},\n",
       "  {'C': 40, 'gamma': 0.1},\n",
       "  {'C': 40, 'gamma': 0.5},\n",
       "  {'C': 40, 'gamma': 0.8},\n",
       "  {'C': 40, 'gamma': 1},\n",
       "  {'C': 40, 'gamma': 10},\n",
       "  {'C': 50, 'gamma': 0.01},\n",
       "  {'C': 50, 'gamma': 0.1},\n",
       "  {'C': 50, 'gamma': 0.5},\n",
       "  {'C': 50, 'gamma': 0.8},\n",
       "  {'C': 50, 'gamma': 1},\n",
       "  {'C': 50, 'gamma': 10},\n",
       "  {'C': 60, 'gamma': 0.01},\n",
       "  {'C': 60, 'gamma': 0.1},\n",
       "  {'C': 60, 'gamma': 0.5},\n",
       "  {'C': 60, 'gamma': 0.8},\n",
       "  {'C': 60, 'gamma': 1},\n",
       "  {'C': 60, 'gamma': 10},\n",
       "  {'C': 70, 'gamma': 0.01},\n",
       "  {'C': 70, 'gamma': 0.1},\n",
       "  {'C': 70, 'gamma': 0.5},\n",
       "  {'C': 70, 'gamma': 0.8},\n",
       "  {'C': 70, 'gamma': 1},\n",
       "  {'C': 70, 'gamma': 10},\n",
       "  {'C': 80, 'gamma': 0.01},\n",
       "  {'C': 80, 'gamma': 0.1},\n",
       "  {'C': 80, 'gamma': 0.5},\n",
       "  {'C': 80, 'gamma': 0.8},\n",
       "  {'C': 80, 'gamma': 1},\n",
       "  {'C': 80, 'gamma': 10},\n",
       "  {'C': 90, 'gamma': 0.01},\n",
       "  {'C': 90, 'gamma': 0.1},\n",
       "  {'C': 90, 'gamma': 0.5},\n",
       "  {'C': 90, 'gamma': 0.8},\n",
       "  {'C': 90, 'gamma': 1},\n",
       "  {'C': 90, 'gamma': 10},\n",
       "  {'C': 100, 'gamma': 0.01},\n",
       "  {'C': 100, 'gamma': 0.1},\n",
       "  {'C': 100, 'gamma': 0.5},\n",
       "  {'C': 100, 'gamma': 0.8},\n",
       "  {'C': 100, 'gamma': 1},\n",
       "  {'C': 100, 'gamma': 10}],\n",
       " 'split0_test_score': array([0.84210526, 0.85964912, 0.89473684, 0.89473684, 0.73684211,\n",
       "        0.54385965, 0.8245614 , 0.8245614 , 0.87719298, 0.89473684,\n",
       "        0.75438596, 0.54385965, 0.85964912, 0.8245614 , 0.87719298,\n",
       "        0.89473684, 0.75438596, 0.54385965, 0.85964912, 0.8245614 ,\n",
       "        0.87719298, 0.89473684, 0.75438596, 0.54385965, 0.85964912,\n",
       "        0.8245614 , 0.87719298, 0.89473684, 0.75438596, 0.54385965,\n",
       "        0.85964912, 0.8245614 , 0.87719298, 0.89473684, 0.75438596,\n",
       "        0.54385965, 0.85964912, 0.8245614 , 0.87719298, 0.89473684,\n",
       "        0.75438596, 0.54385965, 0.84210526, 0.8245614 , 0.87719298,\n",
       "        0.89473684, 0.75438596, 0.54385965, 0.8245614 , 0.8245614 ,\n",
       "        0.87719298, 0.89473684, 0.75438596, 0.54385965, 0.84210526,\n",
       "        0.8245614 , 0.87719298, 0.89473684, 0.75438596, 0.54385965,\n",
       "        0.84210526, 0.8245614 , 0.87719298, 0.89473684, 0.75438596,\n",
       "        0.54385965]),\n",
       " 'split1_test_score': array([0.85964912, 0.8245614 , 0.80701754, 0.80701754, 0.68421053,\n",
       "        0.54385965, 0.84210526, 0.75438596, 0.78947368, 0.78947368,\n",
       "        0.73684211, 0.54385965, 0.8245614 , 0.77192982, 0.78947368,\n",
       "        0.78947368, 0.73684211, 0.54385965, 0.84210526, 0.78947368,\n",
       "        0.78947368, 0.78947368, 0.73684211, 0.54385965, 0.8245614 ,\n",
       "        0.80701754, 0.78947368, 0.78947368, 0.73684211, 0.54385965,\n",
       "        0.80701754, 0.80701754, 0.78947368, 0.78947368, 0.73684211,\n",
       "        0.54385965, 0.8245614 , 0.80701754, 0.78947368, 0.78947368,\n",
       "        0.73684211, 0.54385965, 0.8245614 , 0.80701754, 0.78947368,\n",
       "        0.78947368, 0.73684211, 0.54385965, 0.80701754, 0.80701754,\n",
       "        0.78947368, 0.78947368, 0.73684211, 0.54385965, 0.80701754,\n",
       "        0.80701754, 0.78947368, 0.78947368, 0.73684211, 0.54385965,\n",
       "        0.78947368, 0.80701754, 0.78947368, 0.78947368, 0.73684211,\n",
       "        0.54385965]),\n",
       " 'split2_test_score': array([0.78947368, 0.8245614 , 0.75438596, 0.73684211, 0.63157895,\n",
       "        0.54385965, 0.8245614 , 0.77192982, 0.77192982, 0.75438596,\n",
       "        0.64912281, 0.54385965, 0.84210526, 0.78947368, 0.77192982,\n",
       "        0.75438596, 0.64912281, 0.54385965, 0.84210526, 0.78947368,\n",
       "        0.77192982, 0.75438596, 0.64912281, 0.54385965, 0.84210526,\n",
       "        0.78947368, 0.77192982, 0.75438596, 0.64912281, 0.54385965,\n",
       "        0.84210526, 0.78947368, 0.77192982, 0.75438596, 0.64912281,\n",
       "        0.54385965, 0.8245614 , 0.78947368, 0.77192982, 0.75438596,\n",
       "        0.64912281, 0.54385965, 0.8245614 , 0.78947368, 0.77192982,\n",
       "        0.75438596, 0.64912281, 0.54385965, 0.8245614 , 0.78947368,\n",
       "        0.77192982, 0.75438596, 0.64912281, 0.54385965, 0.8245614 ,\n",
       "        0.78947368, 0.77192982, 0.75438596, 0.64912281, 0.54385965,\n",
       "        0.8245614 , 0.78947368, 0.77192982, 0.75438596, 0.64912281,\n",
       "        0.54385965]),\n",
       " 'split3_test_score': array([0.85714286, 0.83928571, 0.78571429, 0.76785714, 0.66071429,\n",
       "        0.53571429, 0.85714286, 0.71428571, 0.76785714, 0.80357143,\n",
       "        0.67857143, 0.53571429, 0.83928571, 0.71428571, 0.76785714,\n",
       "        0.80357143, 0.67857143, 0.53571429, 0.82142857, 0.71428571,\n",
       "        0.76785714, 0.80357143, 0.67857143, 0.53571429, 0.80357143,\n",
       "        0.71428571, 0.76785714, 0.80357143, 0.67857143, 0.53571429,\n",
       "        0.80357143, 0.71428571, 0.76785714, 0.80357143, 0.67857143,\n",
       "        0.53571429, 0.80357143, 0.71428571, 0.76785714, 0.80357143,\n",
       "        0.67857143, 0.53571429, 0.80357143, 0.71428571, 0.76785714,\n",
       "        0.80357143, 0.67857143, 0.53571429, 0.78571429, 0.71428571,\n",
       "        0.76785714, 0.80357143, 0.67857143, 0.53571429, 0.76785714,\n",
       "        0.71428571, 0.76785714, 0.80357143, 0.67857143, 0.53571429,\n",
       "        0.75      , 0.71428571, 0.76785714, 0.80357143, 0.67857143,\n",
       "        0.53571429]),\n",
       " 'mean_test_score': array([0.83709273, 0.83701441, 0.81046366, 0.80161341, 0.67833647,\n",
       "        0.54182331, 0.83709273, 0.76629073, 0.80161341, 0.81054198,\n",
       "        0.70473058, 0.54182331, 0.84140038, 0.77506266, 0.80161341,\n",
       "        0.81054198, 0.70473058, 0.54182331, 0.84132206, 0.77944862,\n",
       "        0.80161341, 0.81054198, 0.70473058, 0.54182331, 0.8324718 ,\n",
       "        0.78383459, 0.80161341, 0.81054198, 0.70473058, 0.54182331,\n",
       "        0.82808584, 0.78383459, 0.80161341, 0.81054198, 0.70473058,\n",
       "        0.54182331, 0.82808584, 0.78383459, 0.80161341, 0.81054198,\n",
       "        0.70473058, 0.54182331, 0.82369987, 0.78383459, 0.80161341,\n",
       "        0.81054198, 0.70473058, 0.54182331, 0.81046366, 0.78383459,\n",
       "        0.80161341, 0.81054198, 0.70473058, 0.54182331, 0.81038534,\n",
       "        0.78383459, 0.80161341, 0.81054198, 0.70473058, 0.54182331,\n",
       "        0.80153509, 0.78383459, 0.80161341, 0.81054198, 0.70473058,\n",
       "        0.54182331]),\n",
       " 'std_test_score': array([0.02829972, 0.0143844 , 0.05213225, 0.05923678, 0.0385818 ,\n",
       "        0.00352705, 0.01361251, 0.03960276, 0.04438537, 0.05180428,\n",
       "        0.04264192, 0.00352705, 0.01246532, 0.03987937, 0.04438537,\n",
       "        0.05180428, 0.04264192, 0.00352705, 0.01353568, 0.04025659,\n",
       "        0.04438537, 0.05180428, 0.04264192, 0.00352705, 0.02079192,\n",
       "        0.04202668, 0.04438537, 0.05180428, 0.04264192, 0.00352705,\n",
       "        0.02365172, 0.04202668, 0.04438537, 0.05180428, 0.04264192,\n",
       "        0.00352705, 0.02013728, 0.04202668, 0.04438537, 0.05180428,\n",
       "        0.04264192, 0.00352705, 0.01365098, 0.04202668, 0.04438537,\n",
       "        0.05180428, 0.04264192, 0.00352705, 0.01598359, 0.04202668,\n",
       "        0.04438537, 0.05180428, 0.04264192, 0.00352705, 0.02750956,\n",
       "        0.04202668, 0.04438537, 0.05180428, 0.04264192, 0.00352705,\n",
       "        0.03527568, 0.04202668, 0.04438537, 0.05180428, 0.04264192,\n",
       "        0.00352705]),\n",
       " 'rank_test_score': array([ 3,  5, 20, 23, 55, 56,  3, 44, 23, 10, 45, 56,  1, 43, 23, 10, 45,\n",
       "        56,  2, 42, 23, 10, 45, 56,  6, 35, 23, 10, 45, 56,  7, 35, 23, 10,\n",
       "        45, 56,  7, 35, 23, 10, 45, 56,  9, 35, 23, 10, 45, 56, 20, 35, 23,\n",
       "        10, 45, 56, 22, 35, 23, 10, 45, 56, 34, 35, 23, 10, 45, 56])}"
      ]
     },
     "execution_count": 62,
     "metadata": {},
     "output_type": "execute_result"
    }
   ],
   "source": [
    "grid.cv_results_"
   ]
  },
  {
   "cell_type": "code",
   "execution_count": 63,
   "id": "e494f264",
   "metadata": {},
   "outputs": [],
   "source": [
    "svmm=SVC(gamma=0.01,C=10,random_state=0)"
   ]
  },
  {
   "cell_type": "code",
   "execution_count": 64,
   "id": "2e9682c0",
   "metadata": {},
   "outputs": [
    {
     "data": {
      "text/html": [
       "<style>#sk-container-id-6 {color: black;background-color: white;}#sk-container-id-6 pre{padding: 0;}#sk-container-id-6 div.sk-toggleable {background-color: white;}#sk-container-id-6 label.sk-toggleable__label {cursor: pointer;display: block;width: 100%;margin-bottom: 0;padding: 0.3em;box-sizing: border-box;text-align: center;}#sk-container-id-6 label.sk-toggleable__label-arrow:before {content: \"▸\";float: left;margin-right: 0.25em;color: #696969;}#sk-container-id-6 label.sk-toggleable__label-arrow:hover:before {color: black;}#sk-container-id-6 div.sk-estimator:hover label.sk-toggleable__label-arrow:before {color: black;}#sk-container-id-6 div.sk-toggleable__content {max-height: 0;max-width: 0;overflow: hidden;text-align: left;background-color: #f0f8ff;}#sk-container-id-6 div.sk-toggleable__content pre {margin: 0.2em;color: black;border-radius: 0.25em;background-color: #f0f8ff;}#sk-container-id-6 input.sk-toggleable__control:checked~div.sk-toggleable__content {max-height: 200px;max-width: 100%;overflow: auto;}#sk-container-id-6 input.sk-toggleable__control:checked~label.sk-toggleable__label-arrow:before {content: \"▾\";}#sk-container-id-6 div.sk-estimator input.sk-toggleable__control:checked~label.sk-toggleable__label {background-color: #d4ebff;}#sk-container-id-6 div.sk-label input.sk-toggleable__control:checked~label.sk-toggleable__label {background-color: #d4ebff;}#sk-container-id-6 input.sk-hidden--visually {border: 0;clip: rect(1px 1px 1px 1px);clip: rect(1px, 1px, 1px, 1px);height: 1px;margin: -1px;overflow: hidden;padding: 0;position: absolute;width: 1px;}#sk-container-id-6 div.sk-estimator {font-family: monospace;background-color: #f0f8ff;border: 1px dotted black;border-radius: 0.25em;box-sizing: border-box;margin-bottom: 0.5em;}#sk-container-id-6 div.sk-estimator:hover {background-color: #d4ebff;}#sk-container-id-6 div.sk-parallel-item::after {content: \"\";width: 100%;border-bottom: 1px solid gray;flex-grow: 1;}#sk-container-id-6 div.sk-label:hover label.sk-toggleable__label {background-color: #d4ebff;}#sk-container-id-6 div.sk-serial::before {content: \"\";position: absolute;border-left: 1px solid gray;box-sizing: border-box;top: 0;bottom: 0;left: 50%;z-index: 0;}#sk-container-id-6 div.sk-serial {display: flex;flex-direction: column;align-items: center;background-color: white;padding-right: 0.2em;padding-left: 0.2em;position: relative;}#sk-container-id-6 div.sk-item {position: relative;z-index: 1;}#sk-container-id-6 div.sk-parallel {display: flex;align-items: stretch;justify-content: center;background-color: white;position: relative;}#sk-container-id-6 div.sk-item::before, #sk-container-id-6 div.sk-parallel-item::before {content: \"\";position: absolute;border-left: 1px solid gray;box-sizing: border-box;top: 0;bottom: 0;left: 50%;z-index: -1;}#sk-container-id-6 div.sk-parallel-item {display: flex;flex-direction: column;z-index: 1;position: relative;background-color: white;}#sk-container-id-6 div.sk-parallel-item:first-child::after {align-self: flex-end;width: 50%;}#sk-container-id-6 div.sk-parallel-item:last-child::after {align-self: flex-start;width: 50%;}#sk-container-id-6 div.sk-parallel-item:only-child::after {width: 0;}#sk-container-id-6 div.sk-dashed-wrapped {border: 1px dashed gray;margin: 0 0.4em 0.5em 0.4em;box-sizing: border-box;padding-bottom: 0.4em;background-color: white;}#sk-container-id-6 div.sk-label label {font-family: monospace;font-weight: bold;display: inline-block;line-height: 1.2em;}#sk-container-id-6 div.sk-label-container {text-align: center;}#sk-container-id-6 div.sk-container {/* jupyter's `normalize.less` sets `[hidden] { display: none; }` but bootstrap.min.css set `[hidden] { display: none !important; }` so we also need the `!important` here to be able to override the default hidden behavior on the sphinx rendered scikit-learn.org. See: https://github.com/scikit-learn/scikit-learn/issues/21755 */display: inline-block !important;position: relative;}#sk-container-id-6 div.sk-text-repr-fallback {display: none;}</style><div id=\"sk-container-id-6\" class=\"sk-top-container\"><div class=\"sk-text-repr-fallback\"><pre>SVC(C=10, gamma=0.01, random_state=0)</pre><b>In a Jupyter environment, please rerun this cell to show the HTML representation or trust the notebook. <br />On GitHub, the HTML representation is unable to render, please try loading this page with nbviewer.org.</b></div><div class=\"sk-container\" hidden><div class=\"sk-item\"><div class=\"sk-estimator sk-toggleable\"><input class=\"sk-toggleable__control sk-hidden--visually\" id=\"sk-estimator-id-10\" type=\"checkbox\" checked><label for=\"sk-estimator-id-10\" class=\"sk-toggleable__label sk-toggleable__label-arrow\">SVC</label><div class=\"sk-toggleable__content\"><pre>SVC(C=10, gamma=0.01, random_state=0)</pre></div></div></div></div></div>"
      ],
      "text/plain": [
       "SVC(C=10, gamma=0.01, random_state=0)"
      ]
     },
     "execution_count": 64,
     "metadata": {},
     "output_type": "execute_result"
    }
   ],
   "source": [
    "svmm.fit(xtrain,ytrain)"
   ]
  },
  {
   "cell_type": "code",
   "execution_count": 65,
   "id": "9c90761b",
   "metadata": {},
   "outputs": [],
   "source": [
    "pred=svmm.predict(xtest)"
   ]
  },
  {
   "cell_type": "code",
   "execution_count": 66,
   "id": "da87c291",
   "metadata": {},
   "outputs": [],
   "source": [
    "from sklearn.metrics import accuracy_score,confusion_matrix,classification_report"
   ]
  },
  {
   "cell_type": "code",
   "execution_count": 67,
   "id": "57e61039",
   "metadata": {},
   "outputs": [
    {
     "data": {
      "text/plain": [
       "0.8026315789473685"
      ]
     },
     "execution_count": 67,
     "metadata": {},
     "output_type": "execute_result"
    }
   ],
   "source": [
    "accuracy_score(ytest,pred)"
   ]
  },
  {
   "cell_type": "code",
   "execution_count": 68,
   "id": "a5767d55",
   "metadata": {},
   "outputs": [
    {
     "data": {
      "text/plain": [
       "array([[23, 11],\n",
       "       [ 4, 38]], dtype=int64)"
      ]
     },
     "execution_count": 68,
     "metadata": {},
     "output_type": "execute_result"
    }
   ],
   "source": [
    "confusion_matrix(ytest,pred)"
   ]
  },
  {
   "cell_type": "code",
   "execution_count": 69,
   "id": "3010f91f",
   "metadata": {},
   "outputs": [
    {
     "name": "stdout",
     "output_type": "stream",
     "text": [
      "              precision    recall  f1-score   support\n",
      "\n",
      "           0       0.85      0.68      0.75        34\n",
      "           1       0.78      0.90      0.84        42\n",
      "\n",
      "    accuracy                           0.80        76\n",
      "   macro avg       0.81      0.79      0.79        76\n",
      "weighted avg       0.81      0.80      0.80        76\n",
      "\n"
     ]
    }
   ],
   "source": [
    "print(classification_report(ytest,pred))"
   ]
  }
 ],
 "metadata": {
  "kernelspec": {
   "display_name": "Python 3 (ipykernel)",
   "language": "python",
   "name": "python3"
  },
  "language_info": {
   "codemirror_mode": {
    "name": "ipython",
    "version": 3
   },
   "file_extension": ".py",
   "mimetype": "text/x-python",
   "name": "python",
   "nbconvert_exporter": "python",
   "pygments_lexer": "ipython3",
   "version": "3.9.12"
  },
  "vscode": {
   "interpreter": {
    "hash": "a5e2940609b4beeecea3a57c36702139d4feb5f2786223d248b35e487576e04a"
   }
  }
 },
 "nbformat": 4,
 "nbformat_minor": 5
}
